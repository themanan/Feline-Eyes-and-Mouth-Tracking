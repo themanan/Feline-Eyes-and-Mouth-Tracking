{
 "cells": [
  {
   "cell_type": "code",
   "execution_count": 1,
   "metadata": {},
   "outputs": [
    {
     "ename": "ModuleNotFoundError",
     "evalue": "No module named 'cv2'",
     "output_type": "error",
     "traceback": [
      "\u001b[1;31m---------------------------------------------------------------------------\u001b[0m",
      "\u001b[1;31mModuleNotFoundError\u001b[0m                       Traceback (most recent call last)",
      "Cell \u001b[1;32mIn[1], line 1\u001b[0m\n\u001b[1;32m----> 1\u001b[0m \u001b[39mimport\u001b[39;00m \u001b[39mcv2\u001b[39;00m\n\u001b[0;32m      2\u001b[0m \u001b[39mimport\u001b[39;00m \u001b[39mserial\u001b[39;00m\n\u001b[0;32m      3\u001b[0m \u001b[39mimport\u001b[39;00m \u001b[39mdlib\u001b[39;00m\n",
      "\u001b[1;31mModuleNotFoundError\u001b[0m: No module named 'cv2'"
     ]
    }
   ],
   "source": [
    "import cv2\n",
    "import serial\n",
    "import dlib\n",
    "import time\n",
    "\n",
    "\n",
    "\n",
    "arduino = serial.Serial(port='COM4', baudrate=9600)\n",
    "time.sleep(2)\n",
    "print('Connection established...')\n",
    "\n",
    "cap = cv2.VideoCapture(0)\n",
    "\n",
    "# define a face detector\n",
    "face_detector = dlib.get_frontal_face_detector()\n",
    "\n",
    "def wr(x):\n",
    "    arduino.write(bytes(x, 'utf-8'))\n",
    "    time.sleep(0.05)\n",
    "    data = arduino.readline()\n",
    "    return data\n",
    "\n",
    "while True:\n",
    "    success, img = cap.read()\n",
    "    #img = cv2.flip(img,1)\n",
    "    #img = cv2.resize(img, (1024,1024))\n",
    "    #img = cv2.cvtColor(img, cv2.COLOR_BGR2RGB)\n",
    "    cv2.imshow(\"Webcam\", img) # This will open an independent window\n",
    "    bbox = face_detector(img)\n",
    "    print(\"Number of Faces ==>\",len(bbox))\n",
    "    print(img.shape)\n",
    "    for faces in bbox:\n",
    "        x,y,width,height = faces.left(),faces.top(),faces.right() - faces.left(),faces.bottom()-faces.top()\n",
    "        cv2.rectangle(img,(x,y),(x+width,y+height),(0,255,255),5)\n",
    "        cx = int((int(faces.right()+faces.left()))//2)\n",
    "        cy = int((int(faces.bottom()+faces.top()))//2)\n",
    "        cv2.circle(img, (cx, cy), 2, (0,0,255),5)\n",
    "        cv2.imshow(\"Webcam\", img)\n",
    "        print(cx)\n",
    "        print(cy)\n",
    "        ctr = (cx,cy)\n",
    "        data = \"X{0:d}Y{1:d}\".format(cx, cy)\n",
    "        print (\"output = '\" +data+ \"'\")\n",
    "        arduino.write(bytes(data, 'utf-8'))\n",
    "    if cv2.waitKey(30) & 0xFF==ord('q'): # quit when 'q' is pressed\n",
    "        cap.release()\n",
    "        break\n",
    "        \n",
    "cv2.destroyAllWindows() \n",
    "cv2.waitKey(1) # normally unnecessary, but it fixes a bug on MacOS where the window doesn't close"
   ]
  }
 ],
 "metadata": {
  "kernelspec": {
   "display_name": "base",
   "language": "python",
   "name": "python3"
  },
  "language_info": {
   "codemirror_mode": {
    "name": "ipython",
    "version": 3
   },
   "file_extension": ".py",
   "mimetype": "text/x-python",
   "name": "python",
   "nbconvert_exporter": "python",
   "pygments_lexer": "ipython3",
   "version": "3.11.5"
  },
  "orig_nbformat": 4
 },
 "nbformat": 4,
 "nbformat_minor": 2
}
